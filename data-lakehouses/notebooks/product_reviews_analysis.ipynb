{
 "cells": [
  {
   "cell_type": "code",
   "execution_count": null,
   "id": "2983a321-f4cc-41d8-9781-639cd1d6802d",
   "metadata": {
    "collapsed": true,
    "jupyter": {
     "outputs_hidden": true
    }
   },
   "outputs": [],
   "source": [
    "%pip install dremio-simple-query"
   ]
  },
  {
   "cell_type": "markdown",
   "id": "da181194-744a-4df3-afb5-9d00e6f1f08c",
   "metadata": {},
   "source": [
    "## Get Dremio Access Token"
   ]
  },
  {
   "cell_type": "code",
   "execution_count": 1,
   "id": "4f22e6cf-659e-4441-8fc7-6c0fa9463a3d",
   "metadata": {},
   "outputs": [
    {
     "name": "stdout",
     "output_type": "stream",
     "text": [
      "Failed to get a valid response. Status code: 403\n"
     ]
    }
   ],
   "source": [
    "from dremio_simple_query.connect import get_token\n",
    "\n",
    "## URL to Login Endpoint\n",
    "login_endpoint = \"http://localhost:9047/apiv2/login\"\n",
    "\n",
    "## Payload for Login\n",
    "## Update with your Dremio credentials\n",
    "payload = {\n",
    "    \"userName\": \"username\",\n",
    "    \"password\": \"password\"\n",
    "}\n",
    "\n",
    "## Get token from API\n",
    "token = get_token(uri = login_endpoint, payload=payload)"
   ]
  },
  {
   "cell_type": "markdown",
   "id": "10ccaac9-f3e5-4079-b495-14659baa3f3a",
   "metadata": {},
   "source": [
    "## Load product_reviews as a pandas DataFrame\n",
    "- Query Dremio from Python using PyArrow flight\n",
    "- Load the query results to a Pandas DataFrame"
   ]
  },
  {
   "cell_type": "code",
   "execution_count": null,
   "id": "72ac0c75-db0e-4726-acca-ee3bd82208b6",
   "metadata": {
    "collapsed": true,
    "jupyter": {
     "outputs_hidden": true
    }
   },
   "outputs": [],
   "source": [
    "from pyarrow import flight\n",
    "\n",
    "# Connect to Dremio using Flight\n",
    "client = flight.FlightClient(f\"grpc+tcp://localhost:32010\")\n",
    "\n",
    "# Authenticate\n",
    "headers = [\n",
    "    (b'authorization', f\"bearer {token}\".encode('utf-8'))\n",
    "]\n",
    "\n",
    "# Query to get all product reviews\n",
    "sql = \"SELECT * FROM catalog.bronze.ecoride.product_reviews\"\n",
    "\n",
    "# Create a Flight descriptor\n",
    "descriptor = flight.FlightDescriptor.for_command(sql)\n",
    "\n",
    "# Perform the query using call_options to include headers\n",
    "options = flight.FlightCallOptions(headers=headers)\n",
    "flight_info = client.get_flight_info(descriptor, options=options)\n",
    "reader = client.do_get(flight_info.endpoints[0].ticket, options=options)\n",
    "\n",
    "# Convert to Pandas DataFrame\n",
    "product_reviews = reader.read_pandas()\n",
    "\n",
    "# Display the DataFrame\n",
    "print(product_reviews.head())"
   ]
  },
  {
   "cell_type": "markdown",
   "id": "4764b8b1-32b6-44fd-813a-4596a9ad4e9f",
   "metadata": {},
   "source": [
    "## Basic Statistics\n",
    "- Run basic statistics on the product_reviews DataFrame"
   ]
  },
  {
   "cell_type": "code",
   "execution_count": null,
   "id": "abb6d780-fcb4-4cf4-80fa-21501798a30a",
   "metadata": {
    "collapsed": true,
    "jupyter": {
     "outputs_hidden": true
    }
   },
   "outputs": [],
   "source": [
    "print(product_reviews.describe())\n",
    "print(product_reviews['VehicleModel'].value_counts())"
   ]
  },
  {
   "cell_type": "markdown",
   "id": "2cbb5409-7431-43d1-822b-3b092099411b",
   "metadata": {},
   "source": [
    "## Advanced Analytics\n",
    "Run advanced analytics and machine learning on the product_reviews Dataset:\n",
    "\n",
    "1. Wordclouds per vehicle model\n",
    "2. Reviews sentiment analysis\n",
    "3. Sentiment over time and sentiment distribution accros several categories"
   ]
  },
  {
   "cell_type": "markdown",
   "id": "69fc1602-f98f-4115-ae7b-fb30ca44dc76",
   "metadata": {},
   "source": [
    "### Wordclouds per vehicle model"
   ]
  },
  {
   "cell_type": "code",
   "execution_count": null,
   "id": "594e5154-569e-487c-ab5a-765da1e09a07",
   "metadata": {},
   "outputs": [],
   "source": [
    "%pip install wordcloud"
   ]
  },
  {
   "cell_type": "code",
   "execution_count": null,
   "id": "cefdbf8c-286e-4f89-ad89-36bb101a51a6",
   "metadata": {
    "collapsed": true,
    "jupyter": {
     "outputs_hidden": true
    }
   },
   "outputs": [],
   "source": [
    "from wordcloud import WordCloud\n",
    "import matplotlib.pyplot as plt\n",
    "import re\n",
    "\n",
    "# List of vehicle models to exclude\n",
    "vehicle_models = product_reviews['VehicleModel'].unique().tolist()\n",
    "\n",
    "# Function to preprocess and clean text\n",
    "def preprocess_text(text, vehicle_models):\n",
    "    for model in vehicle_models:\n",
    "        text = re.sub(model, '', text, flags=re.IGNORECASE)\n",
    "    return text.lower()\n",
    "\n",
    "# Apply the preprocessing function\n",
    "product_reviews['CleanReviewText'] = product_reviews['ReviewText'].apply(lambda x: preprocess_text(x, vehicle_models))\n",
    "\n",
    "# Function to create a word cloud\n",
    "def create_word_cloud(text, title):\n",
    "    wordcloud = WordCloud(width=800, height=400, background_color='white').generate(text)\n",
    "    plt.figure(figsize=(10, 5))\n",
    "    plt.imshow(wordcloud, interpolation='bilinear')\n",
    "    plt.title(title)\n",
    "    plt.axis('off')\n",
    "    plt.show()\n",
    "\n",
    "# Aggregate review text by vehicle model\n",
    "grouped_reviews = product_reviews.groupby('VehicleModel')['CleanReviewText'].apply(' '.join)\n",
    "\n",
    "# Create word clouds for each vehicle model, excluding the vehicle name\n",
    "for model, text in grouped_reviews.items():\n",
    "    create_word_cloud(text, f'Word Cloud for {model}')"
   ]
  },
  {
   "cell_type": "markdown",
   "id": "b2e2e08d-57ba-44ba-bb31-fd71831210a3",
   "metadata": {},
   "source": [
    "### Sentiment analysis per vehicle model"
   ]
  },
  {
   "cell_type": "code",
   "execution_count": null,
   "id": "09096ff9-c527-4516-bd9e-e63cb1cbcef2",
   "metadata": {
    "collapsed": true,
    "jupyter": {
     "outputs_hidden": true
    }
   },
   "outputs": [],
   "source": [
    "%pip install textblob"
   ]
  },
  {
   "cell_type": "code",
   "execution_count": null,
   "id": "da2a209a-cbfa-4070-ba54-6691946a980c",
   "metadata": {
    "collapsed": true,
    "jupyter": {
     "outputs_hidden": true
    }
   },
   "outputs": [],
   "source": [
    "from textblob import TextBlob\n",
    "import pandas as pd\n",
    "import matplotlib.pyplot as plt\n",
    "\n",
    "# Sentiment analysis using TextBlob\n",
    "def get_sentiment(text):\n",
    "    blob = TextBlob(text)\n",
    "    sentiment = blob.sentiment.polarity\n",
    "    if sentiment > 0:\n",
    "        return 'positive'\n",
    "    elif sentiment < 0:\n",
    "        return 'negative'\n",
    "    else:\n",
    "        return 'neutral'\n",
    "\n",
    "product_reviews['Sentiment'] = product_reviews['ReviewText'].apply(get_sentiment)\n",
    "\n",
    "# Distribution of sentiments\n",
    "sentiment_counts = product_reviews['Sentiment'].value_counts()\n",
    "sentiment_counts.plot(kind='bar', figsize=(10, 6), colormap='viridis')\n",
    "plt.title('Sentiment Distribution')\n",
    "plt.xlabel('Sentiment')\n",
    "plt.ylabel('Count')\n",
    "plt.show()\n",
    "\n",
    "# Distribution of sentiments per vehicle model\n",
    "sentiment_per_model = product_reviews.groupby('VehicleModel')['Sentiment'].value_counts().unstack().fillna(0)\n",
    "sentiment_per_model.plot(kind='bar', stacked=True, figsize=(10, 6), colormap='viridis')\n",
    "plt.title('Sentiment Distribution per Vehicle Model')\n",
    "plt.xlabel('Vehicle Model')\n",
    "plt.ylabel('Count')\n",
    "plt.show()"
   ]
  },
  {
   "cell_type": "markdown",
   "id": "f7d169cf-8bc5-4d0e-80e1-185c1b2da992",
   "metadata": {},
   "source": [
    "### Setiment over time"
   ]
  },
  {
   "cell_type": "code",
   "execution_count": null,
   "id": "15797d2f-919d-43d8-bbaa-4abea72b92ba",
   "metadata": {
    "collapsed": true,
    "jupyter": {
     "outputs_hidden": true
    }
   },
   "outputs": [],
   "source": [
    "product_reviews['Date'] = pd.to_datetime(product_reviews['Date'])\n",
    "sentiment_over_time = product_reviews.groupby([product_reviews['Date'].dt.to_period('M')])['Sentiment'].value_counts().unstack().fillna(0)\n",
    "sentiment_over_time.plot(kind='line', subplots=True, layout=(2, 2), figsize=(15, 10), title=\"Sentiment Over Time\")\n",
    "plt.show()"
   ]
  },
  {
   "cell_type": "markdown",
   "id": "0bfafcb5-2ce4-4fc0-aa55-83f34d04433e",
   "metadata": {},
   "source": [
    "### Get customer_segmentation dataset from the Lakehouse\n",
    "- Load `customer_segmentation` as a Pandas DataFrame\n",
    "- Join `customer_segmentation` with `product_reviews` on `customer_id`"
   ]
  },
  {
   "cell_type": "code",
   "execution_count": null,
   "id": "d02c48cc-ef7d-4de1-8ead-e78c873d4727",
   "metadata": {
    "collapsed": true,
    "jupyter": {
     "outputs_hidden": true
    }
   },
   "outputs": [],
   "source": [
    "# Query to get all product reviews\n",
    "sql = \"SELECT * FROM lakehouse.gold.customer_segmentation\"\n",
    "\n",
    "# Create a Flight descriptor\n",
    "descriptor = flight.FlightDescriptor.for_command(sql)\n",
    "\n",
    "# Perform the query using call_options to include headers\n",
    "options = flight.FlightCallOptions(headers=headers)\n",
    "flight_info = client.get_flight_info(descriptor, options=options)\n",
    "reader = client.do_get(flight_info.endpoints[0].ticket, options=options)\n",
    "\n",
    "# Convert to Pandas DataFrame\n",
    "customer_segmentation = reader.read_pandas()\n",
    "\n",
    "# Display the DataFrame\n",
    "print(customer_segmentation.head())"
   ]
  },
  {
   "cell_type": "code",
   "execution_count": null,
   "id": "5827b54b-0168-4504-9155-4ee484fe2afc",
   "metadata": {
    "collapsed": true,
    "jupyter": {
     "outputs_hidden": true
    }
   },
   "outputs": [],
   "source": [
    "# Ensure customer_id is of type integer\n",
    "customer_segmentation['customer_id'] = customer_segmentation['customer_id'].astype(int)\n",
    "product_reviews['CustomerID'] = product_reviews['CustomerID'].astype(int)\n",
    "\n",
    "# Convert CustomerID to customer_id for merging\n",
    "product_reviews.rename(columns={'CustomerID': 'customer_id'}, inplace=True)\n",
    "\n",
    "# Merge the datasets on customer_id\n",
    "merged_df = pd.merge(product_reviews, customer_segmentation, on='customer_id')\n",
    "\n",
    "# Display the merged DataFrame\n",
    "print(merged_df.head())"
   ]
  },
  {
   "cell_type": "markdown",
   "id": "9f179e17-80d3-4815-b46b-a8c07cb7836b",
   "metadata": {},
   "source": [
    "### Sentiment by State"
   ]
  },
  {
   "cell_type": "code",
   "execution_count": null,
   "id": "fd23d85b-9cc4-4299-a45a-e4dbd63c9d0f",
   "metadata": {
    "collapsed": true,
    "jupyter": {
     "outputs_hidden": true
    }
   },
   "outputs": [],
   "source": [
    "sentiment_by_state = merged_df.groupby('state')['Sentiment'].value_counts().unstack().fillna(0)\n",
    "sentiment_by_state.plot(kind='bar', stacked=True, figsize=(10, 6), colormap='viridis')\n",
    "plt.title('Sentiment Distribution by State')\n",
    "plt.xlabel('State')\n",
    "plt.ylabel('Count')\n",
    "plt.show()"
   ]
  },
  {
   "cell_type": "markdown",
   "id": "d5c900fd-4b48-4675-926f-1fc2d833f471",
   "metadata": {},
   "source": [
    "### Sentiment by VIP status"
   ]
  },
  {
   "cell_type": "code",
   "execution_count": null,
   "id": "16bc0bf9-5250-4e49-94d8-674a283afe72",
   "metadata": {
    "collapsed": true,
    "jupyter": {
     "outputs_hidden": true
    }
   },
   "outputs": [],
   "source": [
    "# Add is_vip column based on total_purchases\n",
    "merged_df['is_vip'] = merged_df['total_purchases'] > 3\n",
    "sentiment_by_vip = merged_df.groupby('is_vip')['Sentiment'].value_counts().unstack().fillna(0)\n",
    "sentiment_by_vip.plot(kind='bar', stacked=True, figsize=(10, 6), colormap='viridis')\n",
    "plt.title('Sentiment Distribution by VIP Status')\n",
    "plt.xlabel('VIP Status')\n",
    "plt.ylabel('Count')\n",
    "plt.show()"
   ]
  }
 ],
 "metadata": {
  "kernelspec": {
   "display_name": "Python 3 (ipykernel)",
   "language": "python",
   "name": "python3"
  },
  "language_info": {
   "codemirror_mode": {
    "name": "ipython",
    "version": 3
   },
   "file_extension": ".py",
   "mimetype": "text/x-python",
   "name": "python",
   "nbconvert_exporter": "python",
   "pygments_lexer": "ipython3",
   "version": "3.10.13"
  }
 },
 "nbformat": 4,
 "nbformat_minor": 5
}
